{
 "cells": [
  {
   "cell_type": "code",
   "execution_count": 1,
   "metadata": {},
   "outputs": [
    {
     "name": "stdout",
     "output_type": "stream",
     "text": [
      "おつりの枚数:\n",
      "500円: 18枚\n",
      "100円: 0枚\n",
      "50円: 0枚\n",
      "10円: 0枚\n"
     ]
    }
   ],
   "source": [
    "def calculate_change(n, x):\n",
    "    change = n - x\n",
    "    coins = [500, 100, 50, 10]\n",
    "    coin_count = {coin: 0 for coin in coins}\n",
    "    \n",
    "    for coin in coins:\n",
    "        coin_count[coin] = change // coin\n",
    "        change %= coin\n",
    "    \n",
    "    return coin_count\n",
    "\n",
    "def main():\n",
    "    n = int(input(\"投入金額を入力してください（円）: \"))\n",
    "    x = int(input(\"商品の金額を入力してください（円）: \"))\n",
    "    \n",
    "    if n < x:\n",
    "        print(\"投入金額が商品の金額を下回っています。\")\n",
    "    else:\n",
    "        coin_count = calculate_change(n, x)\n",
    "        print(\"おつりの枚数:\")\n",
    "        for coin, count in coin_count.items():\n",
    "            print(f\"{coin}円: {count}枚\")\n",
    "\n",
    "if __name__ == \"__main__\":\n",
    "    main()\n"
   ]
  }
 ],
 "metadata": {
  "kernelspec": {
   "display_name": "base",
   "language": "python",
   "name": "python3"
  },
  "language_info": {
   "codemirror_mode": {
    "name": "ipython",
    "version": 3
   },
   "file_extension": ".py",
   "mimetype": "text/x-python",
   "name": "python",
   "nbconvert_exporter": "python",
   "pygments_lexer": "ipython3",
   "version": "3.9.12"
  }
 },
 "nbformat": 4,
 "nbformat_minor": 2
}
